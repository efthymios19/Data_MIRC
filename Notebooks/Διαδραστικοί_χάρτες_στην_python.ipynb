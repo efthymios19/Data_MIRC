{
  "nbformat": 4,
  "nbformat_minor": 0,
  "metadata": {
    "colab": {
      "provenance": [],
      "toc_visible": true,
      "authorship_tag": "ABX9TyNpLN2qvxPqXyiPQPJdWM3I",
      "include_colab_link": true
    },
    "kernelspec": {
      "name": "python3",
      "display_name": "Python 3"
    },
    "language_info": {
      "name": "python"
    }
  },
  "cells": [
    {
      "cell_type": "markdown",
      "metadata": {
        "id": "view-in-github",
        "colab_type": "text"
      },
      "source": [
        "<a href=\"https://colab.research.google.com/github/efthymios19/MIRC_EcosystemApproach_MountainousRegion/blob/main/Notebooks/%CE%94%CE%B9%CE%B1%CE%B4%CF%81%CE%B1%CF%83%CF%84%CE%B9%CE%BA%CE%BF%CE%AF_%CF%87%CE%AC%CF%81%CF%84%CE%B5%CF%82_%CF%83%CF%84%CE%B7%CE%BD_python.ipynb\" target=\"_parent\"><img src=\"https://colab.research.google.com/assets/colab-badge.svg\" alt=\"Open In Colab\"/></a>"
      ]
    },
    {
      "cell_type": "markdown",
      "source": [
        "## Περιβάλλον εργασίας\n",
        "\n",
        "Το περιβάλλον που χρησιμοποιούμε είναι το Jupyter Notebook, στο οποίο το περιεχόμενο είναι χωρισμένο σε κελιά (κώδικα, Markdown-κειμένου και απλού κειμένου).\n",
        "\n",
        "Μπορείτε να εκτελέσετε ένα κελί κωδικά πατώντας:\n",
        "\n",
        "```\n",
        "shift + enter ή run shell δίπλα από το κελί κώδικα\n",
        "```\n",
        "Το συγκεκριμένο Jupyter Notebook είναι ενσωματωμένο στην πλατφόρμα του google colab, το οποίο παρέχει τα περισσότερα πακέτα - αρθρώματα (modules) και τις περισσότερες βιβλιοθήκες (libraries) της python προεγκατεστημενες. Για να δείτε τις διαθέσιμες εγκατεστημένες βιβλιοθήκες και τα διαθέσιμα πακέτα-αρθρώματα μπορείτε να τρέξετε την ακόλουθη εντολή σε ένα κελί κώδικα:\n",
        "\n",
        "```\n",
        "!pip freeze\n",
        "```\n",
        "Για να μπορέσετε να εγκαταστήσετε μια βιβλιοθήκη ή ένα πακέτο-άρθρωμα, η οποία δεν βρίσκεται στον καταλόγο των ήδη εγκατεστημένων αρκεί να τρέξετε την ακόλουθη εντολή σε ένα κελί κώδικα:\n",
        "```\n",
        "!pip install -το όνομα της βιβλιοθήκης-\n",
        "\n",
        "π.χ. !pip install matplotlib-venn\n",
        "```\n"
      ],
      "metadata": {
        "id": "74-Wo0uGbWC5"
      }
    },
    {
      "cell_type": "markdown",
      "source": [
        "## Η βιβλιοθήκη [folium](https://python-visualization.github.io/folium/latest/)\n",
        "\n",
        "H folium είναι μια βιβλιοθήκη Python που χρησιμοποιείται για τη δημιουργία διαδραστικών χαρτών. Η βιβλιοθήκη βασίζεται στο Leaflet.js, παρέχοντας έναν εύκολο τρόπο για την ενσωμάτωση διαδραστικών χαρτών στις εφαρμογές Python. Με το folium, μπορείτε να δημιουργήσετε χάρτες, να προσθέσετε διάφορα επίπεδα δεδομένων όπως σημεία, πολύγωνα, και πολλά άλλα, και να προσαρμόσετε την εμφάνιση του χάρτη. Η δυνατότητα ενσωμάτωσης διαδραστικών χαρτών καθιστά το folium ιδανικό εργαλείο για αναπαραστάσεις χωρικών δεδομένων και για τη δημιουργία εφαρμογών που απαιτούν χρήση χαρτών σε πραγματικό χρόνο."
      ],
      "metadata": {
        "id": "utrZvC6lLqrY"
      }
    },
    {
      "cell_type": "code",
      "source": [
        "import folium # εισαγωγή της βιβλιοθήκης folium\n",
        "from folium.plugins import MarkerCluster # εισαγωγή του πακέτου MarkerCluster από τη βιβλιοθήκη folium"
      ],
      "metadata": {
        "id": "ogHU59xXPD9-"
      },
      "execution_count": null,
      "outputs": []
    },
    {
      "cell_type": "markdown",
      "source": [
        "###Εμφάνιση χάρτη εστιασμένου σε ένα σημείο\n",
        "\n",
        "Η πιο βασική επιδίωξη κατά τη δημιουργία ενός διαδραστικού χάρτη είναι η εισάγωγη μιας τοποθεσίας και η προβολή της στο χάρτη."
      ],
      "metadata": {
        "id": "IMLnNT_SQAJD"
      }
    },
    {
      "cell_type": "code",
      "source": [
        "#Ορισμός των συντεταγμένων που θα εσταιάσει ο χάρτης μας\n",
        "mirc_coords = [39.77146667232345, 21.177557068460455] #σύστημα αναφοράς συντεταγμένων (CRS:WGS84)\n",
        "\n",
        "#Δημιουργία του χάρτη\n",
        "my_map = folium.Map(location = mirc_coords, zoom_start = 15, control_scale=True)\n",
        "\n",
        "#Απεικόνιση του χάρτη\n",
        "my_map\n"
      ],
      "metadata": {
        "id": "3SbPCs4UPoYG"
      },
      "execution_count": null,
      "outputs": []
    },
    {
      "cell_type": "markdown",
      "source": [
        "### Προσθέτωντας σημεία στο χάρτη\n",
        "\n",
        "Από τη στιγμή που γνωρίζουμε πως να εστιάσουμε σε ένα χάρτη σε ένα σημείο της επιθυμίας μας, μπορούμε να προσθέσουμε περιεχόμενο σ'αυτόν μέσω της εισαγωγής σημείων. Τα σημεία μπορούν να μας φανούν εξαιρετικά χρήσιμα αποθηκεύοντας πληροφορίες για συγκεκριμένες τοποθεσίες. Θα προσθέσουμε σημεία που θα αντιστοιχούν στο κτήριο του ΜΕΚΔΕ, του κέντρου Υγείας Μετσόβου και της πλατείας του Μετσόβου.\n",
        "\n"
      ],
      "metadata": {
        "id": "Dqu8lr6IS4Ym"
      }
    },
    {
      "cell_type": "code",
      "source": [
        "#Προσδιορίζουμε τις συντεταγμένες στα σημεία που θέλουμε να προσθέσουμε\n",
        "\n",
        "mirc_coords = [39.77146667232345, 21.177557068460455]\n",
        "hospital_coords = [39.770980144385206, 21.177342491727057]\n",
        "square_coords = [39.769817411178934, 21.182932215343715]\n",
        "\n",
        "tooltip=\"Click me\"\n",
        "\n",
        "#Προσθέτουμε τα σημεία στο χάρτη\n",
        "folium.Marker(mirc_coords, popup='ΜΕΚΔΕ',tooltip=tooltip).add_to(my_map)\n",
        "folium.Marker(hospital_coords, popup = 'ΚΕΝΤΡΟ ΥΓΕΙΑΣ',tooltip=tooltip).add_to(my_map)\n",
        "folium.Marker(square_coords, popup = 'ΠΛΑΤΕΙΑ ΜΕΤΣΟΒΟΥ', tooltip=tooltip).add_to(my_map)\n",
        "\n",
        "#Απεικόνιση του χάρτη\n",
        "my_map\n"
      ],
      "metadata": {
        "id": "nD0X8cIQSfbV"
      },
      "execution_count": null,
      "outputs": []
    },
    {
      "cell_type": "code",
      "source": [
        "help(folium.Icon)"
      ],
      "metadata": {
        "id": "N06nZessXVLf"
      },
      "execution_count": null,
      "outputs": []
    },
    {
      "cell_type": "code",
      "source": [
        "help(folium.Marker)"
      ],
      "metadata": {
        "id": "ADT3nHdxktu7"
      },
      "execution_count": null,
      "outputs": []
    },
    {
      "cell_type": "markdown",
      "source": [
        "### Διαμόρφωση των δεικτών στον χάρτη\n",
        "\n",
        "Τα διαθέσιμα χρώματα είναι τα εξής:\n",
        "```\n",
        " ‘red’, ‘blue’, ‘green’, ‘purple’, ‘orange’, ‘darkred’, ‘lightred’, ‘beige’, ‘darkblue’, ‘darkgreen’, ‘cadetblue’, ‘darkpurple’, ‘white’, ‘pink’, ‘lightblue’, ‘lightgreen’, ‘gray’, ‘black’, ‘lightgray’\n",
        "```\n",
        "\n",
        "Τα διαθέσιμα εικονίδια είναι διαθέσιμα στην συγκεκριμένη [ιστοσελίδα](https://fontawesome.com/). Για να χρησιμοποιηθούν τα συγκεκριμένα εικονίδια θα πρέπει να χρησιμοποιηθεί η πρόθεση 'fa':\n",
        "```\n",
        "prefix='fa'\n",
        "```"
      ],
      "metadata": {
        "id": "moOFgui3cc1o"
      }
    },
    {
      "cell_type": "code",
      "source": [
        "#Δημιουργία νέου χάρτη\n",
        "new_map = folium.Map(location = square_coords, zoom_start = 15, control_scale=True)\n",
        "\n",
        "tooltip=\"Click me\"\n",
        "\n",
        "#Προσθέτουμε τα σημεία στο χάρτη\n",
        "folium.Marker(mirc_coords, popup='ΜΕΚΔΕ',icon=folium.Icon(color='blue', prefix='fa', icon='institution'),tooltip=tooltip).add_to(new_map)\n",
        "folium.Marker(hospital_coords, popup = 'ΚΕΝΤΡΟ ΥΓΕΙΑΣ', icon=folium.Icon(color='red', prefix='fa',icon='hospital'),tooltip=tooltip).add_to(new_map)\n",
        "folium.Marker(square_coords, popup = 'ΠΛΑΤΕΙΑ ΜΕΤΣΟΒΟΥ', icon=folium.Icon(color='black', prefix='fa', icon='info'), tooltip=tooltip).add_to(new_map)\n",
        "\n",
        "#Απεικόνιση του χάρτη\n",
        "new_map\n"
      ],
      "metadata": {
        "id": "P6UhWs-scMNA"
      },
      "execution_count": null,
      "outputs": []
    },
    {
      "cell_type": "code",
      "source": [
        "#Μια διαφορετική επιλογή από τους κλασσικούς δείκτες είναι η απεικόνιση των σημείων\n",
        "#με πολύγωνα\n",
        "polygon_map = folium.Map(location = square_coords, zoom_start = 15)\n",
        "\n",
        "\n",
        "#Προσθέτουμε τα σημεία στο χάρτη\n",
        "folium.RegularPolygonMarker(mirc_coords, popup = 'ΜΕΚΔΕ', fill_color = '#00ff40', #Για τους κωδικούς των χρωμάτων μπορείτε να ανατρέξετε εδώ:(https://python-charts.com/colors/)\n",
        "                            number_of_sides = 3, radius = 10).add_to(polygon_map)\n",
        "folium.RegularPolygonMarker(hospital_coords, popup = 'ΚΕΝΤΡΟ ΥΓΕΙΑΣ', fill_color = '#bf00ff',\n",
        "                            number_of_sides = 5, radius = 10).add_to(polygon_map)\n",
        "folium.RegularPolygonMarker(square_coords, popup = 'ΠΛΑΤΕΙΑ ΜΕΤΣΟΒΟΥ', fill_color = '#ff0000',\n",
        "                           number_of_sides = 8, radius = 10).add_to(polygon_map)\n",
        "\n",
        "#Απεικόνιση του χάρτη\n",
        "polygon_map\n",
        "\n"
      ],
      "metadata": {
        "id": "xYML0stfYNd4"
      },
      "execution_count": null,
      "outputs": []
    },
    {
      "cell_type": "code",
      "source": [
        "#Εξαγωγή του χάρτη σε μορφή html\n",
        "\n",
        "outfp = \"new_map.html\"\n",
        "new_map.save(outfp)\n",
        "\n"
      ],
      "metadata": {
        "id": "-2ubVXE8jjfK"
      },
      "execution_count": null,
      "outputs": []
    },
    {
      "cell_type": "markdown",
      "source": [
        "### Απεικόνιση σημείων υδροχημικών αναλύσεων σε διαδραστικό χάρτη"
      ],
      "metadata": {
        "id": "SsUGNcFwdkaD"
      }
    },
    {
      "cell_type": "markdown",
      "source": [
        "#### Εισαγωγή δεδομένων .csv μέσω του github:\n",
        "\n",
        "\n",
        "1.   Προσδιορίστε το url raw file στο repository.\n",
        "2.   Χρησιμοποιήστε την βιβλιοθήκη [pandas](https://pandas.pydata.org/docs/) για να ανοίξετε το αρχείο.\n",
        "\n"
      ],
      "metadata": {
        "id": "Nl-o8QUdpL_H"
      }
    },
    {
      "cell_type": "code",
      "source": [
        "import pandas as pd"
      ],
      "metadata": {
        "id": "RT88Ry7cYmaM"
      },
      "execution_count": null,
      "outputs": []
    },
    {
      "cell_type": "code",
      "source": [
        "url = 'https://raw.githubusercontent.com/efthymios19/Data_MIRC/main/Chemical_Analysis_Data/Chemical%20Analysis_Arta.csv'\n",
        "\n",
        "df_arta = pd.read_csv(url)"
      ],
      "metadata": {
        "id": "opYmwwRrqHts"
      },
      "execution_count": null,
      "outputs": []
    },
    {
      "cell_type": "markdown",
      "source": [
        "#### Εξαγωγή στατιστικών παραμέτρων μέσω της βιβλιοθήκης pandas"
      ],
      "metadata": {
        "id": "11AYcOHgwr8G"
      }
    },
    {
      "cell_type": "code",
      "source": [
        "df_arta"
      ],
      "metadata": {
        "id": "VGC1b2iisFJK"
      },
      "execution_count": null,
      "outputs": []
    },
    {
      "cell_type": "code",
      "source": [
        "df_arta.describe().transpose()"
      ],
      "metadata": {
        "id": "MVpPk4bGxJpK"
      },
      "execution_count": null,
      "outputs": []
    },
    {
      "cell_type": "code",
      "source": [
        "df_arta[['NO3']].max()\n",
        "df_arta[['Cl']].min()"
      ],
      "metadata": {
        "id": "Ys2g9bR8xaZ_"
      },
      "execution_count": null,
      "outputs": []
    },
    {
      "cell_type": "code",
      "source": [
        "# Όπως διαπιστώσατε τρέχωντας το παραπάνω κελί λάβατε το αποτέλεσμα μόνο της τελευταίας εντολής\n",
        "\n",
        "no3_max=df_arta['NO3'].max()\n",
        "no3_max_index=df_arta['NO3'].idxmax()\n",
        "sample_max_no3=df_arta.loc[no3_max_index, 'ID']\n",
        "cl_min=df_arta['Cl'].min()\n",
        "cl_min_index=df_arta['Cl'].idxmin()\n",
        "sample_min_cl=df_arta.loc[cl_min_index, 'ID']\n",
        "\n",
        "print(\"Στη συγκεκριμένη δειγματοληψία η μέγιστη τιμή NO3 είναι:\" ,no3_max,\" mg/L και εμφανίζεται στο δείγμα:\", sample_max_no3, \".\")"
      ],
      "metadata": {
        "id": "BjZFIHJ8yIQB"
      },
      "execution_count": null,
      "outputs": []
    },
    {
      "cell_type": "markdown",
      "source": [
        "#### Άσκηση 1:\n",
        "Υπολογίστε την μέγιστη, την ελάχιστη και τη μέση τιμή της στήλης SO4 της df_arta, χρησιμοποιώντας τις συνάρτησεις:\n",
        "```\n",
        "max()\n",
        "mean()\n",
        "min()\n",
        "idxmax()\n",
        "idxmin()\n",
        "```\n",
        "της βιβλιοθήκης pandas. Αποθηκεύστε τα αποτελέσματα σε μεταβλητές με κατάλληλα ονόματα και τυπώστε τα αποτελέσματα με την συνάρτηση\n",
        "```\n",
        "print()\n",
        "```"
      ],
      "metadata": {
        "id": "24nn4qfh47BR"
      }
    },
    {
      "cell_type": "markdown",
      "source": [
        "#### Μετατροπή της dataframe (πλαίσιο δεδομένων) σε geo-dataframe (γέω-πλασιο δεδομένων)\n",
        "\n",
        "Η υλοποίηση πραγματοποιείται με την χρησιμοποίηση της βιβλιοθήκης [geopandas](https://geopandas.org/en/stable/index.html), η οποία αποτελεί την γέω-χωρική επέκταση της βιβλιοθήκης pandas, βελτιστοποιημένη να λειτουργεί με γέω-χωρικά δεδομένα."
      ],
      "metadata": {
        "id": "CIHFYYz5t3v5"
      }
    },
    {
      "cell_type": "code",
      "source": [
        "import geopandas as gpd"
      ],
      "metadata": {
        "id": "oEbxulr1uooM"
      },
      "execution_count": null,
      "outputs": []
    },
    {
      "cell_type": "code",
      "source": [
        "gdf_arta = gpd.GeoDataFrame(df_arta,\n",
        "    geometry = gpd.points_from_xy(df_arta['X_m'], df_arta['Y_m']),\n",
        "    crs = 'EPSG:2100')#κωδικός για το γεωγραφικό σύστημα συντεταγμένων ΕΓΣΑ-87"
      ],
      "metadata": {
        "id": "I2acAXshtAaf"
      },
      "execution_count": null,
      "outputs": []
    },
    {
      "cell_type": "markdown",
      "source": [
        "Μετατροπή των συντεταγμένων σε WGS-84"
      ],
      "metadata": {
        "id": "vry7blubHE-O"
      }
    },
    {
      "cell_type": "code",
      "source": [
        "gdf_arta.crs"
      ],
      "metadata": {
        "id": "ka3EW09lFNMi"
      },
      "execution_count": null,
      "outputs": []
    },
    {
      "cell_type": "code",
      "source": [
        "gdf_arta_r=gdf_arta.to_crs(4326)"
      ],
      "metadata": {
        "id": "lap5EAawFfUo"
      },
      "execution_count": null,
      "outputs": []
    },
    {
      "cell_type": "markdown",
      "source": [
        "##### Δημιουργία διαδραστικού χάρτη με τα γέω-χωρικά δεδομένα της gdf_arta"
      ],
      "metadata": {
        "id": "miwLDX-I_jUP"
      }
    },
    {
      "cell_type": "code",
      "source": [
        "# Δημιουργία νέου διαδραστικού χάρτη εστιασμένου σε συντεταγμένες της gdf_arta\n",
        "\n",
        "arta_map = folium.Map(location=[gdf_arta_r.geometry.y[10], gdf_arta_r.geometry.x[10]], zoom_start=10, control_scale=True)\n",
        "\n",
        "#Απεικόνιση χάρτη\n",
        "arta_map\n"
      ],
      "metadata": {
        "id": "cx0rKlQKvfwA"
      },
      "execution_count": null,
      "outputs": []
    },
    {
      "cell_type": "code",
      "source": [
        "# Διατρέχουμε (iterating) όλες τις σειρές της gdf_arta_r μέσω της μεθόδου iterrows() (https://pandas.pydata.org/docs/reference/api/pandas.DataFrame.iterrows.html)\n",
        "\n",
        "for idx, row in gdf_arta_r.iterrows():\n",
        "    popup_html = f\"<b>ID:</b> {row['ID']}<br>\"\n",
        "    popup_html += f\"<b>NO3:</b> {row['NO3']} mg/L<br>\"\n",
        "    popup_html += f\"<b>CL:</b> {row['Cl']} mg/L<br>\"\n",
        "    popup_html += f\"<b>HCO3:</b> {row['HCO3']} mg/L<br>\"\n",
        "    popup_html += f\"<b>SO4:</b> {row['SO4']} mg/L<br>\"\n",
        "    popup_html += f\"<b>CA:</b> {row['CA']} mg/L<br>\"\n",
        "    popup_html += f\"<b>MG:</b> {row['MG']} mg/L<br>\"\n",
        "    popup_html += f\"<b>NA:</b> {row['NA']} mg/L<br>\"\n",
        "    popup_html += f\"<b>K:</b> {row['K']} mg/L<br>\"\n",
        "\n",
        "    folium.Marker(\n",
        "        location=[row['geometry'].y, row['geometry'].x],\n",
        "        popup=folium.Popup(popup_html, max_width=300),\n",
        "    ).add_to(arta_map)\n",
        "\n",
        "# Απεικόνιση του χάρτη\n",
        "arta_map"
      ],
      "metadata": {
        "id": "PJWcTAvuE3id"
      },
      "execution_count": null,
      "outputs": []
    },
    {
      "cell_type": "markdown",
      "source": [
        "#### Δημιουργία Heamap με βάση τις τιμές των $ΝΟ3^-$\n"
      ],
      "metadata": {
        "id": "Oxt2kFoPNzNP"
      }
    },
    {
      "cell_type": "code",
      "source": [
        "from folium.plugins import HeatMap\n",
        "from folium.plugins import BeautifyIcon\n"
      ],
      "metadata": {
        "id": "2W2TR3vAWILC"
      },
      "execution_count": null,
      "outputs": []
    },
    {
      "cell_type": "code",
      "source": [
        "# Εξαγωγή των στηλών με τις συντεταγμένες και της στήλης ΝΟ3 από την gdf_arta_r\n",
        "\n",
        "df_extracted = gdf_arta_r[['geometry', 'NO3']].copy()\n",
        "df_extracted['latitude'] = df_extracted['geometry'].y\n",
        "df_extracted['longitude'] = df_extracted['geometry'].x\n",
        "df_extracted = df_extracted.drop('geometry', axis=1)\n",
        "\n",
        "# Reorder columns with 'latitude' and 'longitude' as the first columns\n",
        "df_extracted = df_extracted[['latitude', 'longitude', 'NO3']]\n"
      ],
      "metadata": {
        "id": "hyFKA7NeOEDg"
      },
      "execution_count": null,
      "outputs": []
    },
    {
      "cell_type": "code",
      "source": [
        "arta_heatmap = folium.Map(location=[gdf_arta_r.geometry.y[10], gdf_arta_r.geometry.x[10]], zoom_start=10, control_scale=True)\n",
        "\n",
        "HeatMap(df_extracted,\n",
        "        min_opacity=0.4,\n",
        "        blur = 18\n",
        "               ).add_to(folium.FeatureGroup(name='Heat Map NO3').add_to(arta_heatmap))\n",
        "folium.LayerControl().add_to(arta_heatmap)\n",
        "\n",
        "\n",
        "#for idx, row in gdf_arta_r.iterrows():\n",
        "    #popup_html = f\"<b>ID:</b> {row['ID']}<br>\"\n",
        "    #popup_html += f\"<b>NO3:</b> {row['NO3']} mg/L<br>\"\n",
        "    #folium.Marker(\n",
        "        #location=[row['geometry'].y, row['geometry'].x],\n",
        "        #).add_to(arta_heatmap)\n",
        "arta_heatmap"
      ],
      "metadata": {
        "id": "AuyjF4YEPPo2"
      },
      "execution_count": null,
      "outputs": []
    },
    {
      "cell_type": "markdown",
      "source": [
        "#### Άσκηση 2:\n",
        "\n",
        "Δημιουργήστε ένα νέο heatmap χρησιμοποιώντας τα δεδομένα της στήλης (SO4)."
      ],
      "metadata": {
        "id": "pcB1KE0D1uin"
      }
    }
  ]
}